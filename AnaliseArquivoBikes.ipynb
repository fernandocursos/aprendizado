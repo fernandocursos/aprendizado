{
 "cells": [
  {
   "cell_type": "code",
   "execution_count": 2,
   "id": "e3f9979d",
   "metadata": {},
   "outputs": [
    {
     "name": "stdout",
     "output_type": "stream",
     "text": [
      "22/07/24 09:57:49 WARN SparkSession: Using an existing Spark session; only runtime SQL configurations will take effect.\n"
     ]
    }
   ],
   "source": [
    "from pyspark.sql import SparkSession\n",
    "spark = SparkSession.builder.appName(\"estudo\").getOrCreate()"
   ]
  },
  {
   "cell_type": "code",
   "execution_count": 26,
   "id": "b9360f27",
   "metadata": {},
   "outputs": [],
   "source": [
    "df = spark.read.csv(\"/home/fernando/TreinamentoSparkBrasil/Dados/Bikes.csv\",header= True)"
   ]
  },
  {
   "cell_type": "code",
   "execution_count": 27,
   "id": "c809c82e",
   "metadata": {},
   "outputs": [
    {
     "name": "stdout",
     "output_type": "stream",
     "text": [
      "+--------------------+--------+---------+----------+------------+---+-----+-------------+\n",
      "|           bike_name|   price|     city|kms_driven|       owner|age|power|        brand|\n",
      "+--------------------+--------+---------+----------+------------+---+-----+-------------+\n",
      "|TVS Star City Plu...| 35000.0|Ahmedabad|   17654.0| First Owner|3.0|110.0|          TVS|\n",
      "|Royal Enfield Cla...|119900.0|    Delhi|   11000.0| First Owner|4.0|350.0|Royal Enfield|\n",
      "|Triumph Daytona 675R|600000.0|    Delhi|     110.0| First Owner|8.0|675.0|      Triumph|\n",
      "|TVS Apache RTR 180cc| 65000.0|Bangalore|   16329.0| First Owner|4.0|180.0|          TVS|\n",
      "|Yamaha FZ S V 2.0...| 80000.0|Bangalore|   10000.0| First Owner|3.0|150.0|       Yamaha|\n",
      "|    Yamaha FZs 150cc| 53499.0|    Delhi|   25000.0| First Owner|6.0|150.0|       Yamaha|\n",
      "|Honda CB Hornet 1...| 85000.0|    Delhi|    8200.0| First Owner|3.0|160.0|        Honda|\n",
      "|Hero Splendor Plu...| 45000.0|    Delhi|   12645.0| First Owner|3.0|100.0|         Hero|\n",
      "|Royal Enfield Thu...|145000.0|Bangalore|    9190.0| First Owner|3.0|350.0|Royal Enfield|\n",
      "|Royal Enfield Cla...| 88000.0|    Delhi|   19000.0|Second Owner|7.0|500.0|Royal Enfield|\n",
      "|Yamaha YZF-R15 2....| 72000.0|Bangalore|   20000.0| First Owner|7.0|150.0|       Yamaha|\n",
      "|   Yamaha FZ25 250cc| 95000.0|Bangalore|    9665.0| First Owner|4.0|250.0|       Yamaha|\n",
      "|  Bajaj Pulsar NS200| 78000.0|Bangalore|    9900.0| First Owner|4.0|200.0|        Bajaj|\n",
      "| Bajaj Discover 100M| 29499.0|    Delhi|   20000.0| First Owner|8.0|100.0|        Bajaj|\n",
      "| Bajaj Discover 125M| 29900.0|    Delhi|   20000.0| First Owner|7.0|125.0|        Bajaj|\n",
      "|Bajaj Pulsar NS20...| 90000.0|Bangalore|   11574.0| First Owner|3.0|200.0|        Bajaj|\n",
      "|Bajaj Pulsar RS20...|120000.0|Bangalore|   23000.0| First Owner|3.0|200.0|        Bajaj|\n",
      "|Suzuki Gixxer SF ...| 48000.0|   Mumbai|   24725.0| First Owner|5.0|150.0|       Suzuki|\n",
      "|  Benelli 302R 300CC|240000.0|   Mumbai|   15025.0|Second Owner|3.0|302.0|      Benelli|\n",
      "| Bajaj Discover 125M| 29900.0|    Delhi|   20000.0| First Owner|7.0|125.0|        Bajaj|\n",
      "+--------------------+--------+---------+----------+------------+---+-----+-------------+\n",
      "only showing top 20 rows\n",
      "\n"
     ]
    }
   ],
   "source": [
    "df.show()"
   ]
  },
  {
   "cell_type": "code",
   "execution_count": 28,
   "id": "fa28c595",
   "metadata": {},
   "outputs": [
    {
     "name": "stdout",
     "output_type": "stream",
     "text": [
      "root\n",
      " |-- bike_name: string (nullable = true)\n",
      " |-- price: string (nullable = true)\n",
      " |-- city: string (nullable = true)\n",
      " |-- kms_driven: string (nullable = true)\n",
      " |-- owner: string (nullable = true)\n",
      " |-- age: string (nullable = true)\n",
      " |-- power: string (nullable = true)\n",
      " |-- brand: string (nullable = true)\n",
      "\n"
     ]
    }
   ],
   "source": [
    "df.printSchema()"
   ]
  },
  {
   "cell_type": "code",
   "execution_count": 29,
   "id": "ddb95a33",
   "metadata": {},
   "outputs": [
    {
     "data": {
      "text/plain": [
       "32648"
      ]
     },
     "execution_count": 29,
     "metadata": {},
     "output_type": "execute_result"
    }
   ],
   "source": [
    "df.count()"
   ]
  },
  {
   "cell_type": "code",
   "execution_count": 8,
   "id": "86181066",
   "metadata": {},
   "outputs": [
    {
     "name": "stderr",
     "output_type": "stream",
     "text": [
      "                                                                                \r"
     ]
    },
    {
     "data": {
      "text/plain": [
       "7324"
      ]
     },
     "execution_count": 8,
     "metadata": {},
     "output_type": "execute_result"
    }
   ],
   "source": [
    "#df.distinct().count()"
   ]
  },
  {
   "cell_type": "code",
   "execution_count": 30,
   "id": "bca9c42d",
   "metadata": {},
   "outputs": [
    {
     "data": {
      "text/plain": [
       "<bound method DataFrame.dropDuplicates of DataFrame[bike_name: string, price: string, city: string, kms_driven: string, owner: string, age: string, power: string, brand: string]>"
      ]
     },
     "execution_count": 30,
     "metadata": {},
     "output_type": "execute_result"
    }
   ],
   "source": [
    "df.dropDuplicates"
   ]
  },
  {
   "cell_type": "code",
   "execution_count": 31,
   "id": "8a732160",
   "metadata": {},
   "outputs": [
    {
     "data": {
      "text/plain": [
       "32648"
      ]
     },
     "execution_count": 31,
     "metadata": {},
     "output_type": "execute_result"
    }
   ],
   "source": [
    "df.count(['bike_name','City']).count()"
   ]
  },
  {
   "cell_type": "code",
   "execution_count": 12,
   "id": "f7da77dc",
   "metadata": {},
   "outputs": [
    {
     "data": {
      "text/plain": [
       "pyspark.sql.dataframe.DataFrame"
      ]
     },
     "execution_count": 12,
     "metadata": {},
     "output_type": "execute_result"
    }
   ],
   "source": [
    "type(df_distinct)"
   ]
  },
  {
   "cell_type": "code",
   "execution_count": 58,
   "id": "7b845d79",
   "metadata": {},
   "outputs": [],
   "source": [
    "group = df.groupby(['bike_name']).count()"
   ]
  },
  {
   "cell_type": "code",
   "execution_count": 53,
   "id": "03db8d29",
   "metadata": {},
   "outputs": [
    {
     "name": "stdout",
     "output_type": "stream",
     "text": [
      "+--------------------+-----+\n",
      "|           bike_name|count|\n",
      "+--------------------+-----+\n",
      "|  Bajaj Pulsar 150cc| 2776|\n",
      "|Bajaj Avenger Str...| 2531|\n",
      "| Bajaj Avenger 220cc| 2060|\n",
      "|Royal Enfield Cla...| 1673|\n",
      "|Hero Passion Pro ...| 1432|\n",
      "|  Hero Passion 100cc| 1238|\n",
      "|Royal Enfield Thu...|  919|\n",
      "|Yamaha YZF-R15 2....|  769|\n",
      "|Royal Enfield Bul...|  756|\n",
      "|  Bajaj Pulsar NS200|  708|\n",
      "|        KTM RC 390cc|  705|\n",
      "|Bajaj Dominar 400...|  700|\n",
      "|Hero CD Deluxe 100cc|  693|\n",
      "| Bajaj Platina 100cc|  686|\n",
      "|Hero CBZ Xtreme 1...|  686|\n",
      "|Honda CB Trigger ...|  681|\n",
      "|TVS Apache RTR 180cc|  675|\n",
      "|  Yamaha Fazer 150cc|  674|\n",
      "|     Yamaha FZ 150cc|  661|\n",
      "|Hero Super Splend...|  649|\n",
      "+--------------------+-----+\n",
      "only showing top 20 rows\n",
      "\n"
     ]
    }
   ],
   "source": [
    "group = group.orderBy(['count'],ascending=[0,1]).show()"
   ]
  },
  {
   "cell_type": "code",
   "execution_count": 60,
   "id": "3f2ae8db",
   "metadata": {},
   "outputs": [
    {
     "name": "stdout",
     "output_type": "stream",
     "text": [
      "DataFrame[bike_name: string, count: bigint]\n"
     ]
    }
   ],
   "source": [
    "print(group)"
   ]
  },
  {
   "cell_type": "code",
   "execution_count": 61,
   "id": "2dcf288e",
   "metadata": {},
   "outputs": [
    {
     "name": "stdout",
     "output_type": "stream",
     "text": [
      "+--------------------+-----+\n",
      "|           bike_name|count|\n",
      "+--------------------+-----+\n",
      "|Royal Enfield Cla...|   30|\n",
      "|Yamaha FZ25 ABS 2...|    6|\n",
      "| TVS Star City 110cc|   35|\n",
      "|Bajaj Avenger Cru...|   72|\n",
      "|Honda CB ShineSP ...|    7|\n",
      "|Benelli TNT R 1130cc|    1|\n",
      "|  Hero CD Dawn 100cc|   10|\n",
      "|Honda CB ShineSP ...|    9|\n",
      "|Yamaha Fazer25 250cc|    4|\n",
      "|Hero Super Splend...|    3|\n",
      "|  Bajaj Pulsar 150cc| 2776|\n",
      "|TVS Apache RTR 20...|    1|\n",
      "|Triumph Street Tw...|    2|\n",
      "|Yamaha YZF-R3 320...|    1|\n",
      "|Royal Enfield Mac...|    9|\n",
      "| Bajaj Discover 100M|   31|\n",
      "|Suzuki Gixxer 150...|    2|\n",
      "|TVS Apache RTR 16...|    2|\n",
      "|  Bajaj Pulsar 220cc|   98|\n",
      "| Jawa Standard 295CC|    3|\n",
      "+--------------------+-----+\n",
      "only showing top 20 rows\n",
      "\n"
     ]
    }
   ],
   "source": [
    "group.show()"
   ]
  },
  {
   "cell_type": "code",
   "execution_count": 69,
   "id": "109a105c",
   "metadata": {},
   "outputs": [],
   "source": [
    "group.write.csv(\"/home/fernando/TreinamentoSparkBrasil/Dados/bike2.csv\")"
   ]
  },
  {
   "cell_type": "code",
   "execution_count": null,
   "id": "81a9775c",
   "metadata": {},
   "outputs": [],
   "source": []
  }
 ],
 "metadata": {
  "kernelspec": {
   "display_name": "Python 3 (ipykernel)",
   "language": "python",
   "name": "python3"
  },
  "language_info": {
   "codemirror_mode": {
    "name": "ipython",
    "version": 3
   },
   "file_extension": ".py",
   "mimetype": "text/x-python",
   "name": "python",
   "nbconvert_exporter": "python",
   "pygments_lexer": "ipython3",
   "version": "3.9.12"
  }
 },
 "nbformat": 4,
 "nbformat_minor": 5
}
